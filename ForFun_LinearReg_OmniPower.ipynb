{
 "cells": [
  {
   "cell_type": "code",
   "execution_count": 20,
   "metadata": {},
   "outputs": [],
   "source": [
    "import pandas as pd\n",
    "import numpy as np\n",
    "import matplotlib.pyplot as plt\n",
    "import seaborn as sns"
   ]
  },
  {
   "cell_type": "code",
   "execution_count": 21,
   "metadata": {},
   "outputs": [
    {
     "data": {
      "text/html": [
       "<div>\n",
       "<style scoped>\n",
       "    .dataframe tbody tr th:only-of-type {\n",
       "        vertical-align: middle;\n",
       "    }\n",
       "\n",
       "    .dataframe tbody tr th {\n",
       "        vertical-align: top;\n",
       "    }\n",
       "\n",
       "    .dataframe thead th {\n",
       "        text-align: right;\n",
       "    }\n",
       "</style>\n",
       "<table border=\"1\" class=\"dataframe\">\n",
       "  <thead>\n",
       "    <tr style=\"text-align: right;\">\n",
       "      <th></th>\n",
       "      <th>Sales</th>\n",
       "      <th>Price</th>\n",
       "      <th>Promotion</th>\n",
       "    </tr>\n",
       "  </thead>\n",
       "  <tbody>\n",
       "    <tr>\n",
       "      <th>0</th>\n",
       "      <td>4141</td>\n",
       "      <td>59</td>\n",
       "      <td>200</td>\n",
       "    </tr>\n",
       "    <tr>\n",
       "      <th>1</th>\n",
       "      <td>3842</td>\n",
       "      <td>59</td>\n",
       "      <td>200</td>\n",
       "    </tr>\n",
       "    <tr>\n",
       "      <th>2</th>\n",
       "      <td>3056</td>\n",
       "      <td>59</td>\n",
       "      <td>200</td>\n",
       "    </tr>\n",
       "    <tr>\n",
       "      <th>3</th>\n",
       "      <td>3519</td>\n",
       "      <td>59</td>\n",
       "      <td>200</td>\n",
       "    </tr>\n",
       "    <tr>\n",
       "      <th>4</th>\n",
       "      <td>4226</td>\n",
       "      <td>59</td>\n",
       "      <td>400</td>\n",
       "    </tr>\n",
       "  </tbody>\n",
       "</table>\n",
       "</div>"
      ],
      "text/plain": [
       "   Sales  Price  Promotion\n",
       "0   4141     59        200\n",
       "1   3842     59        200\n",
       "2   3056     59        200\n",
       "3   3519     59        200\n",
       "4   4226     59        400"
      ]
     },
     "execution_count": 21,
     "metadata": {},
     "output_type": "execute_result"
    }
   ],
   "source": [
    "df = pd.read_csv('OmniPower.csv')\n",
    "df.head()"
   ]
  },
  {
   "cell_type": "code",
   "execution_count": 22,
   "metadata": {},
   "outputs": [
    {
     "data": {
      "text/plain": [
       "Sales        34\n",
       "Price        34\n",
       "Promotion    34\n",
       "dtype: int64"
      ]
     },
     "execution_count": 22,
     "metadata": {},
     "output_type": "execute_result"
    }
   ],
   "source": [
    "df.count()"
   ]
  },
  {
   "cell_type": "code",
   "execution_count": 23,
   "metadata": {},
   "outputs": [
    {
     "data": {
      "text/html": [
       "<div>\n",
       "<style scoped>\n",
       "    .dataframe tbody tr th:only-of-type {\n",
       "        vertical-align: middle;\n",
       "    }\n",
       "\n",
       "    .dataframe tbody tr th {\n",
       "        vertical-align: top;\n",
       "    }\n",
       "\n",
       "    .dataframe thead th {\n",
       "        text-align: right;\n",
       "    }\n",
       "</style>\n",
       "<table border=\"1\" class=\"dataframe\">\n",
       "  <thead>\n",
       "    <tr style=\"text-align: right;\">\n",
       "      <th></th>\n",
       "      <th>Sales</th>\n",
       "      <th>Price</th>\n",
       "      <th>Promotion</th>\n",
       "    </tr>\n",
       "  </thead>\n",
       "  <tbody>\n",
       "    <tr>\n",
       "      <th>count</th>\n",
       "      <td>34.000000</td>\n",
       "      <td>34.000000</td>\n",
       "      <td>34.000000</td>\n",
       "    </tr>\n",
       "    <tr>\n",
       "      <th>mean</th>\n",
       "      <td>3098.676471</td>\n",
       "      <td>77.823529</td>\n",
       "      <td>388.235294</td>\n",
       "    </tr>\n",
       "    <tr>\n",
       "      <th>std</th>\n",
       "      <td>1256.422018</td>\n",
       "      <td>16.286210</td>\n",
       "      <td>162.862102</td>\n",
       "    </tr>\n",
       "    <tr>\n",
       "      <th>min</th>\n",
       "      <td>675.000000</td>\n",
       "      <td>59.000000</td>\n",
       "      <td>200.000000</td>\n",
       "    </tr>\n",
       "    <tr>\n",
       "      <th>25%</th>\n",
       "      <td>2125.250000</td>\n",
       "      <td>59.000000</td>\n",
       "      <td>200.000000</td>\n",
       "    </tr>\n",
       "    <tr>\n",
       "      <th>50%</th>\n",
       "      <td>3430.500000</td>\n",
       "      <td>79.000000</td>\n",
       "      <td>400.000000</td>\n",
       "    </tr>\n",
       "    <tr>\n",
       "      <th>75%</th>\n",
       "      <td>3968.750000</td>\n",
       "      <td>99.000000</td>\n",
       "      <td>600.000000</td>\n",
       "    </tr>\n",
       "    <tr>\n",
       "      <th>max</th>\n",
       "      <td>5120.000000</td>\n",
       "      <td>99.000000</td>\n",
       "      <td>600.000000</td>\n",
       "    </tr>\n",
       "  </tbody>\n",
       "</table>\n",
       "</div>"
      ],
      "text/plain": [
       "             Sales      Price   Promotion\n",
       "count    34.000000  34.000000   34.000000\n",
       "mean   3098.676471  77.823529  388.235294\n",
       "std    1256.422018  16.286210  162.862102\n",
       "min     675.000000  59.000000  200.000000\n",
       "25%    2125.250000  59.000000  200.000000\n",
       "50%    3430.500000  79.000000  400.000000\n",
       "75%    3968.750000  99.000000  600.000000\n",
       "max    5120.000000  99.000000  600.000000"
      ]
     },
     "execution_count": 23,
     "metadata": {},
     "output_type": "execute_result"
    }
   ],
   "source": [
    "df.describe()"
   ]
  },
  {
   "cell_type": "code",
   "execution_count": 63,
   "metadata": {},
   "outputs": [
    {
     "data": {
      "text/html": [
       "<div>\n",
       "<style scoped>\n",
       "    .dataframe tbody tr th:only-of-type {\n",
       "        vertical-align: middle;\n",
       "    }\n",
       "\n",
       "    .dataframe tbody tr th {\n",
       "        vertical-align: top;\n",
       "    }\n",
       "\n",
       "    .dataframe thead th {\n",
       "        text-align: right;\n",
       "    }\n",
       "</style>\n",
       "<table border=\"1\" class=\"dataframe\">\n",
       "  <thead>\n",
       "    <tr style=\"text-align: right;\">\n",
       "      <th></th>\n",
       "      <th>Sales</th>\n",
       "      <th>Price</th>\n",
       "      <th>Promotion</th>\n",
       "    </tr>\n",
       "  </thead>\n",
       "  <tbody>\n",
       "    <tr>\n",
       "      <th>Sales</th>\n",
       "      <td>1.000000</td>\n",
       "      <td>-0.735146</td>\n",
       "      <td>0.535095</td>\n",
       "    </tr>\n",
       "    <tr>\n",
       "      <th>Price</th>\n",
       "      <td>-0.735146</td>\n",
       "      <td>1.000000</td>\n",
       "      <td>-0.096774</td>\n",
       "    </tr>\n",
       "    <tr>\n",
       "      <th>Promotion</th>\n",
       "      <td>0.535095</td>\n",
       "      <td>-0.096774</td>\n",
       "      <td>1.000000</td>\n",
       "    </tr>\n",
       "  </tbody>\n",
       "</table>\n",
       "</div>"
      ],
      "text/plain": [
       "              Sales     Price  Promotion\n",
       "Sales      1.000000 -0.735146   0.535095\n",
       "Price     -0.735146  1.000000  -0.096774\n",
       "Promotion  0.535095 -0.096774   1.000000"
      ]
     },
     "execution_count": 63,
     "metadata": {},
     "output_type": "execute_result"
    }
   ],
   "source": [
    "df.corr(method='pearson')"
   ]
  },
  {
   "cell_type": "markdown",
   "metadata": {},
   "source": [
    "Looks like Price has a strong, negative relationship with Sales, while Promotion has a strong, positive relationship with Sales."
   ]
  },
  {
   "cell_type": "code",
   "execution_count": 25,
   "metadata": {},
   "outputs": [
    {
     "data": {
      "text/plain": [
       "<matplotlib.axes._subplots.AxesSubplot at 0x19c31a1c160>"
      ]
     },
     "execution_count": 25,
     "metadata": {},
     "output_type": "execute_result"
    },
    {
     "data": {
      "image/png": "[encoded data removed]",
      "text/plain": [
       "<Figure size 432x288 with 1 Axes>"
      ]
     },
     "metadata": {
      "needs_background": "light"
     },
     "output_type": "display_data"
    }
   ],
   "source": [
    "sns.regplot(x='Price', y = 'Sales', data = df)"
   ]
  },
  {
   "cell_type": "code",
   "execution_count": 26,
   "metadata": {},
   "outputs": [
    {
     "data": {
      "text/plain": [
       "<matplotlib.axes._subplots.AxesSubplot at 0x19c31d2fe48>"
      ]
     },
     "execution_count": 26,
     "metadata": {},
     "output_type": "execute_result"
    },
    {
     "data": {
      "image/png": "[encoded data removed]",
      "text/plain": [
       "<Figure size 432x288 with 1 Axes>"
      ]
     },
     "metadata": {
      "needs_background": "light"
     },
     "output_type": "display_data"
    }
   ],
   "source": [
    "sns.regplot(x='Promotion', y = 'Sales', data = df)"
   ]
  },
  {
   "cell_type": "markdown",
   "metadata": {},
   "source": [
    "Both Reg-plots concur with the above-mentioned findings."
   ]
  },
  {
   "cell_type": "markdown",
   "metadata": {},
   "source": [
    "## Model Training"
   ]
  },
  {
   "cell_type": "code",
   "execution_count": 27,
   "metadata": {},
   "outputs": [],
   "source": [
    "from sklearn import linear_model\n",
    "from sklearn.model_selection import train_test_split\n",
    "from sklearn.metrics import mean_squared_error, r2_score"
   ]
  },
  {
   "cell_type": "code",
   "execution_count": 28,
   "metadata": {},
   "outputs": [],
   "source": [
    "from sklearn.linear_model import LinearRegression"
   ]
  },
  {
   "cell_type": "code",
   "execution_count": 29,
   "metadata": {},
   "outputs": [],
   "source": [
    "X = df[['Price','Promotion']]\n",
    "y = df.Sales"
   ]
  },
  {
   "cell_type": "markdown",
   "metadata": {},
   "source": [
    "Wrote a Class LinRegModel to explore OOP with Python & Supervised Learning"
   ]
  },
  {
   "cell_type": "code",
   "execution_count": 30,
   "metadata": {},
   "outputs": [],
   "source": [
    "class LinRegModel:\n",
    "    def __init__(self, X, y):\n",
    "        self.X = X\n",
    "        self.y = y\n",
    "        self.random_state = 0\n",
    "        self.r2 = 0.00\n",
    "        self.X_train = []\n",
    "        self.y_train = []\n",
    "        self.X_test = []\n",
    "        self.y_test = []\n",
    "        self.y_hat = []\n",
    "        self.model = LinearRegression()\n",
    "        \n",
    "    \n",
    "    def split_sets(self, i):\n",
    "        self.random_state = i\n",
    "        self.X_train, self.X_test, self.y_train, self.y_test = train_test_split(self.X, self.y, test_size=0.2, random_state=self.random_state)\n",
    "    \n",
    "    def train_model(self):\n",
    "        self.model.fit(self.X_train, self.y_train)\n",
    "    \n",
    "    def get_y_hat(self):\n",
    "        self.y_hat = self.model.predict(self.X_test)\n",
    "        return self.y_hat\n",
    "    \n",
    "    def get_r2(self):\n",
    "        self.r2 = r2_score(self.y_test, self.y_hat)\n",
    "        return self.r2\n",
    "    \n",
    "    def everything(self, i):\n",
    "        self.split_sets(i)\n",
    "        self.train_model()\n",
    "        self.get_y_hat()\n",
    "        self.get_r2()"
   ]
  },
  {
   "cell_type": "code",
   "execution_count": 31,
   "metadata": {},
   "outputs": [],
   "source": [
    "new_model = LinRegModel(X,y)"
   ]
  },
  {
   "cell_type": "code",
   "execution_count": 32,
   "metadata": {},
   "outputs": [],
   "source": [
    "new_model.everything(0)"
   ]
  },
  {
   "cell_type": "code",
   "execution_count": 33,
   "metadata": {},
   "outputs": [
    {
     "data": {
      "text/plain": [
       "0.8816955738854297"
      ]
     },
     "execution_count": 33,
     "metadata": {},
     "output_type": "execute_result"
    }
   ],
   "source": [
    "new_model.r2"
   ]
  },
  {
   "cell_type": "markdown",
   "metadata": {},
   "source": [
    "Let's say that we now want to find the most accurate model possible, given our dataset, and save that model. Perhaps we could try re-seeding the random_state of train_test_split?"
   ]
  },
  {
   "cell_type": "code",
   "execution_count": 34,
   "metadata": {},
   "outputs": [],
   "source": [
    "import pickle\n",
    "from joblib import dump, load"
   ]
  },
  {
   "cell_type": "markdown",
   "metadata": {},
   "source": [
    "Let's use a list to store the accuracies of the models"
   ]
  },
  {
   "cell_type": "code",
   "execution_count": 35,
   "metadata": {},
   "outputs": [],
   "source": [
    "r2List = []\n",
    "r2 = 0"
   ]
  },
  {
   "cell_type": "markdown",
   "metadata": {},
   "source": [
    "And we'll use functions to run the loop:"
   ]
  },
  {
   "cell_type": "code",
   "execution_count": 36,
   "metadata": {},
   "outputs": [],
   "source": [
    "def Training(X,y, i):\n",
    "    X_train, X_test, y_train, y_test = train_test_split(X, y, test_size=0.2, random_state=i)\n",
    "    linReg = LinearRegression()\n",
    "    linReg.fit(X_train, y_train)\n",
    "    y_hat = linReg.predict(X_test)\n",
    "    r2 = r2_score(y_test, y_hat)\n",
    "    print(\"Random_state: {0} | r2_score: {1}\".format(i, r2))\n",
    "    return r2"
   ]
  },
  {
   "cell_type": "code",
   "execution_count": 37,
   "metadata": {},
   "outputs": [],
   "source": [
    "def Training_Loop(X,y):\n",
    "    for i in range(0,101):\n",
    "        r2 = Training(X, y, i)\n",
    "        r2List.append(r2)\n",
    "    print(\"\\n\\nHighest found accuracy of {0} is found at random_state of {1}\\n\".format(max(r2List), r2List.index(max(r2List))))"
   ]
  },
  {
   "cell_type": "markdown",
   "metadata": {},
   "source": [
    "For Training with the Best-performing random_state:"
   ]
  },
  {
   "cell_type": "code",
   "execution_count": 54,
   "metadata": {},
   "outputs": [],
   "source": [
    "def Train_Best(X,y, i):\n",
    "    X_train, X_test, y_train, y_test = train_test_split(X, y, test_size=0.2, random_state=i)\n",
    "    linReg = LinearRegression()\n",
    "    linReg.fit(X_train, y_train)\n",
    "    y_hat = linReg.predict(X_test)\n",
    "    r2 = r2_score(y_test, y_hat)\n",
    "    print(\"Random_state: {0} | r2_score: {1}\".format(i, r2))\n",
    "    return linReg"
   ]
  },
  {
   "cell_type": "markdown",
   "metadata": {},
   "source": [
    "We'll also time the entire process (Because my python.exe is running on a 1050Ti and I'm curious)"
   ]
  },
  {
   "cell_type": "markdown",
   "metadata": {},
   "source": [
    "(Confession: I still can't figure out how to use Cuda yet)"
   ]
  },
  {
   "cell_type": "code",
   "execution_count": 39,
   "metadata": {},
   "outputs": [],
   "source": [
    "from timeit import default_timer as timer"
   ]
  },
  {
   "cell_type": "code",
   "execution_count": 40,
   "metadata": {},
   "outputs": [
    {
     "name": "stdout",
     "output_type": "stream",
     "text": [
      "Random_state: 0 | r2_score: 0.8816955738854297\n",
      "Random_state: 1 | r2_score: 0.3143615412673306\n",
      "Random_state: 2 | r2_score: 0.6680776357599827\n",
      "Random_state: 3 | r2_score: 0.6924470263693848\n",
      "Random_state: 4 | r2_score: -0.3913956556615201\n",
      "Random_state: 5 | r2_score: 0.6801387956037874\n",
      "Random_state: 6 | r2_score: 0.8308976886017426\n",
      "Random_state: 7 | r2_score: 0.6635841939515162\n",
      "Random_state: 8 | r2_score: 0.7945778471279848\n",
      "Random_state: 9 | r2_score: 0.6186189025387596\n",
      "Random_state: 10 | r2_score: 0.780856307572587\n",
      "Random_state: 11 | r2_score: 0.5962112227220913\n",
      "Random_state: 12 | r2_score: -0.34194903406989274\n",
      "Random_state: 13 | r2_score: 0.2362828402330659\n",
      "Random_state: 14 | r2_score: -0.19940320061263384\n",
      "Random_state: 15 | r2_score: 0.5859533982972074\n",
      "Random_state: 16 | r2_score: 0.7226920322981251\n",
      "Random_state: 17 | r2_score: 0.8582459471107551\n",
      "Random_state: 18 | r2_score: 0.5190084034071663\n",
      "Random_state: 19 | r2_score: 0.6974029064158241\n",
      "Random_state: 20 | r2_score: 0.6448194334656256\n",
      "Random_state: 21 | r2_score: 0.6849053402477139\n",
      "Random_state: 22 | r2_score: 0.28034427531640516\n",
      "Random_state: 23 | r2_score: 0.6301419637610903\n",
      "Random_state: 24 | r2_score: 0.5599593511401848\n",
      "Random_state: 25 | r2_score: 0.7611349976094781\n",
      "Random_state: 26 | r2_score: 0.7531176982311574\n",
      "Random_state: 27 | r2_score: 0.8203401801736568\n",
      "Random_state: 28 | r2_score: 0.31161724601346696\n",
      "Random_state: 29 | r2_score: 0.6816585229523643\n",
      "Random_state: 30 | r2_score: 0.7646088912868395\n",
      "Random_state: 31 | r2_score: 0.722111652773569\n",
      "Random_state: 32 | r2_score: 0.7093741376254126\n",
      "Random_state: 33 | r2_score: 0.8890603874181103\n",
      "Random_state: 34 | r2_score: 0.6581507795319037\n",
      "Random_state: 35 | r2_score: 0.46624082119839483\n",
      "Random_state: 36 | r2_score: 0.5687755937947673\n",
      "Random_state: 37 | r2_score: 0.5784715460514473\n",
      "Random_state: 38 | r2_score: 0.23701657768938644\n",
      "Random_state: 39 | r2_score: 0.7001814694157846\n",
      "Random_state: 40 | r2_score: 0.12878445532000493\n",
      "Random_state: 41 | r2_score: 0.8453909602103746\n",
      "Random_state: 42 | r2_score: 0.7358802563295199\n",
      "Random_state: 43 | r2_score: 0.6565634193287324\n",
      "Random_state: 44 | r2_score: 0.7508401521490028\n",
      "Random_state: 45 | r2_score: 0.7024479976478817\n",
      "Random_state: 46 | r2_score: 0.28065964077138017\n",
      "Random_state: 47 | r2_score: 0.7882862522730256\n",
      "Random_state: 48 | r2_score: 0.7275357159113655\n",
      "Random_state: 49 | r2_score: 0.5488179628844094\n",
      "Random_state: 50 | r2_score: 0.9041884672900006\n",
      "Random_state: 51 | r2_score: 0.6892070736383482\n",
      "Random_state: 52 | r2_score: 0.3943842808858945\n",
      "Random_state: 53 | r2_score: 0.6430641835055582\n",
      "Random_state: 54 | r2_score: 0.7040120998529357\n",
      "Random_state: 55 | r2_score: 0.7712945536766657\n",
      "Random_state: 56 | r2_score: 0.7379566504569832\n",
      "Random_state: 57 | r2_score: 0.5221750026715706\n",
      "Random_state: 58 | r2_score: 0.6808894099652653\n",
      "Random_state: 59 | r2_score: 0.7462294845463189\n",
      "Random_state: 60 | r2_score: 0.7399538828150954\n",
      "Random_state: 61 | r2_score: 0.691230491400949\n",
      "Random_state: 62 | r2_score: 0.3486429707909029\n",
      "Random_state: 63 | r2_score: 0.7525097563917734\n",
      "Random_state: 64 | r2_score: 0.9088989548606642\n",
      "Random_state: 65 | r2_score: 0.39790168940734105\n",
      "Random_state: 66 | r2_score: 0.8956297976090308\n",
      "Random_state: 67 | r2_score: 0.5662299013481391\n",
      "Random_state: 68 | r2_score: -0.18574571298330111\n",
      "Random_state: 69 | r2_score: 0.6957080812254263\n",
      "Random_state: 70 | r2_score: 0.581521535069774\n",
      "Random_state: 71 | r2_score: 0.7187408147240519\n",
      "Random_state: 72 | r2_score: 0.9303280666187279\n",
      "Random_state: 73 | r2_score: 0.7899932663846192\n",
      "Random_state: 74 | r2_score: 0.30509026173432685\n",
      "Random_state: 75 | r2_score: 0.9019705771686644\n",
      "Random_state: 76 | r2_score: 0.6102460317801721\n",
      "Random_state: 77 | r2_score: 0.7496956242973853\n",
      "Random_state: 78 | r2_score: 0.5285746611457991\n",
      "Random_state: 79 | r2_score: 0.7711418578367693\n",
      "Random_state: 80 | r2_score: 0.6571287489922712\n",
      "Random_state: 81 | r2_score: 0.8772626040197796\n",
      "Random_state: 82 | r2_score: 0.7587564759140908\n",
      "Random_state: 83 | r2_score: 0.5391931610886672\n",
      "Random_state: 84 | r2_score: 0.8235918198500817\n",
      "Random_state: 85 | r2_score: 0.7935202714022823\n",
      "Random_state: 86 | r2_score: 0.3524897191525437\n",
      "Random_state: 87 | r2_score: 0.8379398104528332\n",
      "Random_state: 88 | r2_score: 0.61222121568773\n",
      "Random_state: 89 | r2_score: 0.6434540988911621\n",
      "Random_state: 90 | r2_score: -0.4414185767193588\n",
      "Random_state: 91 | r2_score: 0.7426472077345385\n",
      "Random_state: 92 | r2_score: 0.6174999999811546\n",
      "Random_state: 93 | r2_score: 0.04965987342264211\n",
      "Random_state: 94 | r2_score: 0.5241661438624661\n",
      "Random_state: 95 | r2_score: 0.8073082682112558\n",
      "Random_state: 96 | r2_score: 0.5761539545432587\n",
      "Random_state: 97 | r2_score: 0.80419617213424\n",
      "Random_state: 98 | r2_score: 0.5745982526032967\n",
      "Random_state: 99 | r2_score: 0.7681328682341021\n",
      "Random_state: 100 | r2_score: 0.6472697469114455\n",
      "\n",
      "\n",
      "Highest found accuracy of 0.9303280666187279 is found at random_state of 72\n",
      "\n",
      "This loop took 0.240280 s\n"
     ]
    }
   ],
   "source": [
    "#Training Loop with Timer\n",
    "start = timer()\n",
    "Training_Loop(X, y)\n",
    "dt = timer() - start\n",
    "print(\"This loop took %f s\" % dt)"
   ]
  },
  {
   "cell_type": "code",
   "execution_count": 55,
   "metadata": {},
   "outputs": [
    {
     "name": "stdout",
     "output_type": "stream",
     "text": [
      "Random_state: 72 | r2_score: 0.9303280666187279\n"
     ]
    }
   ],
   "source": [
    "best_Model = Train_Best(X, y, 72)"
   ]
  },
  {
   "cell_type": "code",
   "execution_count": 56,
   "metadata": {},
   "outputs": [
    {
     "name": "stdout",
     "output_type": "stream",
     "text": [
      "Dumped linRegModel.\n"
     ]
    }
   ],
   "source": [
    "dump(best_Model, 'BestLinRegModel_OmniPower_rnd{0}.joblib'.format(r2List.index(max(r2List))))\n",
    "print(\"Dumped linRegModel.\")"
   ]
  },
  {
   "cell_type": "markdown",
   "metadata": {},
   "source": [
    "### Testing the Saved Model"
   ]
  },
  {
   "cell_type": "code",
   "execution_count": 46,
   "metadata": {},
   "outputs": [],
   "source": [
    "from sklearn import linear_model\n",
    "from sklearn.model_selection import train_test_split\n",
    "from sklearn.metrics import r2_score"
   ]
  },
  {
   "cell_type": "code",
   "execution_count": 47,
   "metadata": {},
   "outputs": [],
   "source": [
    "from sklearn.linear_model import LinearRegression"
   ]
  },
  {
   "cell_type": "code",
   "execution_count": 48,
   "metadata": {},
   "outputs": [],
   "source": [
    "import pickle\n",
    "from joblib import load"
   ]
  },
  {
   "cell_type": "code",
   "execution_count": 57,
   "metadata": {},
   "outputs": [],
   "source": [
    "loadedModel = load('BestLinRegModel_OmniPower_rnd72.joblib')"
   ]
  },
  {
   "cell_type": "code",
   "execution_count": 60,
   "metadata": {},
   "outputs": [
    {
     "data": {
      "text/plain": [
       "sklearn.linear_model.base.LinearRegression"
      ]
     },
     "execution_count": 60,
     "metadata": {},
     "output_type": "execute_result"
    }
   ],
   "source": [
    "type(loadedModel)"
   ]
  },
  {
   "cell_type": "code",
   "execution_count": 58,
   "metadata": {},
   "outputs": [],
   "source": [
    "df = pd.read_csv('OmniPower.csv')\n",
    "x = df[['Price','Promotion']]\n",
    "y = df.Sales\n",
    "\n",
    "x_train, x_test, y_train, y_test = train_test_split(x, y, test_size=0.2, random_state=72)"
   ]
  },
  {
   "cell_type": "code",
   "execution_count": 59,
   "metadata": {},
   "outputs": [
    {
     "name": "stdout",
     "output_type": "stream",
     "text": [
      "11    5015\n",
      "9     5120\n",
      "28    2114\n",
      "30    2159\n",
      "31    1602\n",
      "6     3507\n",
      "25     761\n",
      "Name: Sales, dtype: int64\n",
      "[4812.50406504 4812.50406504 2089.05284553 2089.05284553 2089.05284553\n",
      " 4135.88211382 1412.43089431]\n"
     ]
    }
   ],
   "source": [
    "y_hat = loadedModel.predict(x_test)\n",
    "print(y_test)\n",
    "print(y_hat)"
   ]
  },
  {
   "cell_type": "code",
   "execution_count": 61,
   "metadata": {},
   "outputs": [
    {
     "data": {
      "text/plain": [
       "0.9303280666187279"
      ]
     },
     "execution_count": 61,
     "metadata": {},
     "output_type": "execute_result"
    }
   ],
   "source": [
    "r2_score(y_test, y_hat)"
   ]
  },
  {
   "cell_type": "markdown",
   "metadata": {},
   "source": [
    "Ok so the model we saved is the model we intended to save. *YAY!*"
   ]
  },
  {
   "cell_type": "markdown",
   "metadata": {},
   "source": [
    "Let's see on average how well this model would perform."
   ]
  },
  {
   "cell_type": "code",
   "execution_count": 66,
   "metadata": {},
   "outputs": [],
   "source": [
    "perfList = []"
   ]
  },
  {
   "cell_type": "code",
   "execution_count": 67,
   "metadata": {},
   "outputs": [],
   "source": [
    "for i in range(0, 101):\n",
    "    x_train, x_test, y_train, y_test = train_test_split(x, y, test_size=0.2, random_state=i)\n",
    "    y_hat = loadedModel.predict(x_test)\n",
    "    perfList.append(r2_score(y_test, y_hat))"
   ]
  },
  {
   "cell_type": "code",
   "execution_count": 75,
   "metadata": {},
   "outputs": [
    {
     "name": "stdout",
     "output_type": "stream",
     "text": [
      "This model's average accuracy is 66.829%.\n"
     ]
    }
   ],
   "source": [
    "total_score = 0\n",
    "for i in range(0,101):\n",
    "    total_score += perfList[i]\n",
    "average_score = total_score / 101\n",
    "print(\"This model's average accuracy is {0}%.\".format(round(average_score * 100, 3)))"
   ]
  },
  {
   "cell_type": "code",
   "execution_count": null,
   "metadata": {},
   "outputs": [],
   "source": []
  }
 ],
 "metadata": {
  "kernelspec": {
   "display_name": "Python [conda env:root] *",
   "language": "python",
   "name": "conda-root-py"
  },
  "language_info": {
   "codemirror_mode": {
    "name": "ipython",
    "version": 3
   },
   "file_extension": ".py",
   "mimetype": "text/x-python",
   "name": "python",
   "nbconvert_exporter": "python",
   "pygments_lexer": "ipython3",
   "version": "3.7.3"
  }
 },
 "nbformat": 4,
 "nbformat_minor": 2
}
